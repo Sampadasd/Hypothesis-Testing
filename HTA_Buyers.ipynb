{
 "cells": [
  {
   "cell_type": "code",
   "execution_count": 3,
   "id": "e23f8fc6",
   "metadata": {},
   "outputs": [
    {
     "name": "stdout",
     "output_type": "stream",
     "text": [
      "[[50, 142, 131, 70], [550, 351, 480, 350]]\n"
     ]
    }
   ],
   "source": [
    "from scipy import stats\n",
    "\n",
    "Male = [50,142,131,70]\n",
    "Female=[550,351,480,350]\n",
    "buyers=[Male,Female]\n",
    "print(buyers)"
   ]
  },
  {
   "cell_type": "code",
   "execution_count": 4,
   "id": "cf2a4511",
   "metadata": {},
   "outputs": [
    {
     "data": {
      "text/plain": [
       "(80.27295426602495,\n",
       " 2.682172557281901e-17,\n",
       " 3,\n",
       " array([[111.01694915,  91.21892655, 113.05225989,  77.71186441],\n",
       "        [488.98305085, 401.78107345, 497.94774011, 342.28813559]]))"
      ]
     },
     "execution_count": 4,
     "metadata": {},
     "output_type": "execute_result"
    }
   ],
   "source": [
    "chiStats = stats.chi2_contingency(buyers)\n",
    "chiStats"
   ]
  },
  {
   "cell_type": "markdown",
   "id": "3f1c8670",
   "metadata": {},
   "source": [
    "Here we can see pvalue < 0.05. We reject Null Hypothesis"
   ]
  },
  {
   "cell_type": "code",
   "execution_count": null,
   "id": "25fea8af",
   "metadata": {},
   "outputs": [],
   "source": []
  }
 ],
 "metadata": {
  "kernelspec": {
   "display_name": "Python 3 (ipykernel)",
   "language": "python",
   "name": "python3"
  },
  "language_info": {
   "codemirror_mode": {
    "name": "ipython",
    "version": 3
   },
   "file_extension": ".py",
   "mimetype": "text/x-python",
   "name": "python",
   "nbconvert_exporter": "python",
   "pygments_lexer": "ipython3",
   "version": "3.9.12"
  }
 },
 "nbformat": 4,
 "nbformat_minor": 5
}
